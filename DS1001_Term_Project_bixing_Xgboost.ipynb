{
  "nbformat": 4,
  "nbformat_minor": 0,
  "metadata": {
    "colab": {
      "name": "DS1001 Term Project_bixing_Xgboost.ipynb",
      "version": "0.3.2",
      "provenance": [],
      "collapsed_sections": []
    },
    "kernelspec": {
      "name": "python3",
      "display_name": "Python 3"
    }
  },
  "cells": [
    {
      "metadata": {
        "id": "oiuGv-ukmGvc",
        "colab_type": "code",
        "outputId": "b5f4c5de-791f-46dd-ce4f-21f1fe5b224f",
        "colab": {
          "base_uri": "https://localhost:8080/",
          "height": 289
        }
      },
      "cell_type": "code",
      "source": [
        "!pip install tushare\n",
        "!pip install xlrd"
      ],
      "execution_count": 0,
      "outputs": [
        {
          "output_type": "stream",
          "text": [
            "Requirement already satisfied: tushare in /usr/local/lib/python3.6/dist-packages (1.2.17)\n",
            "Requirement already satisfied: pandas>=0.18.0 in /usr/local/lib/python3.6/dist-packages (from tushare) (0.22.0)\n",
            "Requirement already satisfied: msgpack>=0.5.6 in /usr/local/lib/python3.6/dist-packages (from tushare) (0.5.6)\n",
            "Requirement already satisfied: lxml>=3.8.0 in /usr/local/lib/python3.6/dist-packages (from tushare) (4.2.5)\n",
            "Requirement already satisfied: requests>=2.0.0 in /usr/local/lib/python3.6/dist-packages (from tushare) (2.18.4)\n",
            "Requirement already satisfied: simplejson>=3.16.0 in /usr/local/lib/python3.6/dist-packages (from tushare) (3.16.0)\n",
            "Requirement already satisfied: pyzmq>=16.0.0 in /usr/local/lib/python3.6/dist-packages (from tushare) (17.0.0)\n",
            "Requirement already satisfied: pytz>=2011k in /usr/local/lib/python3.6/dist-packages (from pandas>=0.18.0->tushare) (2018.7)\n",
            "Requirement already satisfied: python-dateutil>=2 in /usr/local/lib/python3.6/dist-packages (from pandas>=0.18.0->tushare) (2.5.3)\n",
            "Requirement already satisfied: numpy>=1.9.0 in /usr/local/lib/python3.6/dist-packages (from pandas>=0.18.0->tushare) (1.14.6)\n",
            "Requirement already satisfied: idna<2.7,>=2.5 in /usr/local/lib/python3.6/dist-packages (from requests>=2.0.0->tushare) (2.6)\n",
            "Requirement already satisfied: chardet<3.1.0,>=3.0.2 in /usr/local/lib/python3.6/dist-packages (from requests>=2.0.0->tushare) (3.0.4)\n",
            "Requirement already satisfied: certifi>=2017.4.17 in /usr/local/lib/python3.6/dist-packages (from requests>=2.0.0->tushare) (2018.11.29)\n",
            "Requirement already satisfied: urllib3<1.23,>=1.21.1 in /usr/local/lib/python3.6/dist-packages (from requests>=2.0.0->tushare) (1.22)\n",
            "Requirement already satisfied: six>=1.5 in /usr/local/lib/python3.6/dist-packages (from python-dateutil>=2->pandas>=0.18.0->tushare) (1.11.0)\n",
            "Requirement already satisfied: xlrd in /usr/local/lib/python3.6/dist-packages (1.1.0)\n"
          ],
          "name": "stdout"
        }
      ]
    },
    {
      "metadata": {
        "id": "ATVMrv8RgPx-",
        "colab_type": "code",
        "colab": {}
      },
      "cell_type": "code",
      "source": [
        "import numpy as np\n",
        "import pandas as pd\n",
        "\n",
        "import numpy as np # linear algebra\n",
        "import pandas as pd # data processing, CSV file I/O (e.g. pd.read_csv)\n",
        "import matplotlib.pyplot as plt\n",
        "import seaborn as sns\n",
        "from sklearn.preprocessing import MinMaxScaler\n",
        "import xgboost\n",
        "from sklearn.grid_search import GridSearchCV\n",
        "from collections import OrderedDict\n",
        "\n",
        "from sklearn.metrics import mean_squared_error\n",
        "import tushare as ts\n",
        "np.random.seed(1)"
      ],
      "execution_count": 0,
      "outputs": []
    },
    {
      "metadata": {
        "id": "pPNBEw_EjC5u",
        "colab_type": "code",
        "outputId": "53994bc0-9d0a-4a9c-e217-e578f3d8c94e",
        "colab": {
          "base_uri": "https://localhost:8080/",
          "height": 34
        }
      },
      "cell_type": "code",
      "source": [
        "from google.colab import drive\n",
        "drive.mount('/content/drive')"
      ],
      "execution_count": 0,
      "outputs": [
        {
          "output_type": "stream",
          "text": [
            "Drive already mounted at /content/drive; to attempt to forcibly remount, call drive.mount(\"/content/drive\", force_remount=True).\n"
          ],
          "name": "stdout"
        }
      ]
    },
    {
      "metadata": {
        "id": "IZAAvhbBmNLB",
        "colab_type": "code",
        "colab": {}
      },
      "cell_type": "code",
      "source": [
        "ts.set_token('6f8de8c580d8208f00ef68d0371dcb0a2070741fbb789b5dcf4e6c2e')\n",
        "pro = ts.pro_api()\n",
        "\n",
        "start_dt = '20130101'\n",
        "end_dt ='20180101'\n",
        "\n",
        "df_2 = pro.index_daily(ts_code='399300.SZ', start_date=start_dt, end_date=end_dt)"
      ],
      "execution_count": 0,
      "outputs": []
    },
    {
      "metadata": {
        "id": "30Lr9csDhEeO",
        "colab_type": "code",
        "colab": {}
      },
      "cell_type": "code",
      "source": [
        "filename='features.csv'\n",
        "df=pd.read_csv('/content/drive/My Drive/Colab Notebooks/'+filename)"
      ],
      "execution_count": 0,
      "outputs": []
    },
    {
      "metadata": {
        "id": "9Sk_WjfVhoto",
        "colab_type": "code",
        "outputId": "630ead7c-1de6-4150-e484-f0a9c24d56fa",
        "colab": {
          "base_uri": "https://localhost:8080/",
          "height": 34
        }
      },
      "cell_type": "code",
      "source": [
        "len(df_2['close'])"
      ],
      "execution_count": 0,
      "outputs": [
        {
          "output_type": "execute_result",
          "data": {
            "text/plain": [
              "1215"
            ]
          },
          "metadata": {
            "tags": []
          },
          "execution_count": 172
        }
      ]
    },
    {
      "metadata": {
        "id": "g8NXb-y7kJhM",
        "colab_type": "code",
        "colab": {}
      },
      "cell_type": "code",
      "source": [
        "df.set_index('date',inplace=True)"
      ],
      "execution_count": 0,
      "outputs": []
    },
    {
      "metadata": {
        "id": "LVgJr4K4kPIR",
        "colab_type": "code",
        "outputId": "95e72d87-e548-45e2-b5b7-41691278a47e",
        "colab": {
          "base_uri": "https://localhost:8080/",
          "height": 34
        }
      },
      "cell_type": "code",
      "source": [
        "df=df[len(df)-len(df_2):]\n",
        "len(df)"
      ],
      "execution_count": 0,
      "outputs": [
        {
          "output_type": "execute_result",
          "data": {
            "text/plain": [
              "1215"
            ]
          },
          "metadata": {
            "tags": []
          },
          "execution_count": 174
        }
      ]
    },
    {
      "metadata": {
        "id": "R8Wnfukkp0iL",
        "colab_type": "code",
        "outputId": "5d79f09d-b51a-4365-b34b-7a9ea23266e2",
        "colab": {
          "base_uri": "https://localhost:8080/",
          "height": 68
        }
      },
      "cell_type": "code",
      "source": [
        "df_2.columns"
      ],
      "execution_count": 0,
      "outputs": [
        {
          "output_type": "execute_result",
          "data": {
            "text/plain": [
              "Index(['ts_code', 'trade_date', 'close', 'open', 'high', 'low', 'pre_close',\n",
              "       'change', 'pct_chg', 'vol', 'amount'],\n",
              "      dtype='object')"
            ]
          },
          "metadata": {
            "tags": []
          },
          "execution_count": 175
        }
      ]
    },
    {
      "metadata": {
        "id": "CNCSlVcZpr31",
        "colab_type": "code",
        "outputId": "d9f0385b-3424-4c95-960a-eab184611af0",
        "colab": {
          "base_uri": "https://localhost:8080/",
          "height": 204
        }
      },
      "cell_type": "code",
      "source": [
        "df.columns"
      ],
      "execution_count": 0,
      "outputs": [
        {
          "output_type": "execute_result",
          "data": {
            "text/plain": [
              "Index(['close', 'open', 'high', 'low', 'pre_close', 'change', 'pct_chg', 'vol',\n",
              "       'amount', 'GDP Growth Rate', 'CPI', 'PPI_ppiip', 'PPI_ppi', 'PPI_qm',\n",
              "       'PPI_rmi', 'PPI_pi', 'PPI_cg', 'PPI_food', 'PPI_clothing', 'PPI_roeu',\n",
              "       'PPI_dcg', 'MS_m2', 'MS_m2_yoy', 'MS_m1', 'MS_m1_yoy', 'MS_m0',\n",
              "       'MS_m0_yoy', 'MS_cd', 'MS_qm', 'MS_ftd', 'MS_sd', 'MS_rests',\n",
              "       'SP500_Open', 'SP500_High', 'SP500_Low', 'SP500_Close', 'SP500_Volume',\n",
              "       'US_Stock_P', 'US_Stock_D', 'US_Stock_E', 'US_Stock_CPI',\n",
              "       'US_Stock_Rate GS10', 'US_Stock_Price', 'US_Stock_Dividend',\n",
              "       'US_Stock_Earnings', 'US_Stock_CAPE',\n",
              "       'Sentiment - (1 for pos, -1 for neg)', 'diff'],\n",
              "      dtype='object')"
            ]
          },
          "metadata": {
            "tags": []
          },
          "execution_count": 176
        }
      ]
    },
    {
      "metadata": {
        "id": "vjFWZmcqqPrv",
        "colab_type": "code",
        "colab": {}
      },
      "cell_type": "code",
      "source": [
        "df.drop([ 'open', 'high', 'low', 'pre_close', 'change',\n",
        "       'pct_chg', 'vol', 'amount'],axis=1,inplace=True)"
      ],
      "execution_count": 0,
      "outputs": []
    },
    {
      "metadata": {
        "id": "_LTTg3QBqk9r",
        "colab_type": "code",
        "colab": {}
      },
      "cell_type": "code",
      "source": [
        "df.drop('diff',axis=1,inplace=True)"
      ],
      "execution_count": 0,
      "outputs": []
    },
    {
      "metadata": {
        "id": "x0RzOuXRp91g",
        "colab_type": "code",
        "outputId": "eb79f828-9348-4393-e5e2-3b949f39775e",
        "colab": {
          "base_uri": "https://localhost:8080/",
          "height": 335
        }
      },
      "cell_type": "code",
      "source": [
        "df.head(5)"
      ],
      "execution_count": 0,
      "outputs": [
        {
          "output_type": "execute_result",
          "data": {
            "text/html": [
              "<div>\n",
              "<style scoped>\n",
              "    .dataframe tbody tr th:only-of-type {\n",
              "        vertical-align: middle;\n",
              "    }\n",
              "\n",
              "    .dataframe tbody tr th {\n",
              "        vertical-align: top;\n",
              "    }\n",
              "\n",
              "    .dataframe thead th {\n",
              "        text-align: right;\n",
              "    }\n",
              "</style>\n",
              "<table border=\"1\" class=\"dataframe\">\n",
              "  <thead>\n",
              "    <tr style=\"text-align: right;\">\n",
              "      <th></th>\n",
              "      <th>close</th>\n",
              "      <th>GDP Growth Rate</th>\n",
              "      <th>CPI</th>\n",
              "      <th>PPI_ppiip</th>\n",
              "      <th>PPI_ppi</th>\n",
              "      <th>PPI_qm</th>\n",
              "      <th>PPI_rmi</th>\n",
              "      <th>PPI_pi</th>\n",
              "      <th>PPI_cg</th>\n",
              "      <th>PPI_food</th>\n",
              "      <th>...</th>\n",
              "      <th>US_Stock_P</th>\n",
              "      <th>US_Stock_D</th>\n",
              "      <th>US_Stock_E</th>\n",
              "      <th>US_Stock_CPI</th>\n",
              "      <th>US_Stock_Rate GS10</th>\n",
              "      <th>US_Stock_Price</th>\n",
              "      <th>US_Stock_Dividend</th>\n",
              "      <th>US_Stock_Earnings</th>\n",
              "      <th>US_Stock_CAPE</th>\n",
              "      <th>Sentiment - (1 for pos, -1 for neg)</th>\n",
              "    </tr>\n",
              "    <tr>\n",
              "      <th>date</th>\n",
              "      <th></th>\n",
              "      <th></th>\n",
              "      <th></th>\n",
              "      <th></th>\n",
              "      <th></th>\n",
              "      <th></th>\n",
              "      <th></th>\n",
              "      <th></th>\n",
              "      <th></th>\n",
              "      <th></th>\n",
              "      <th></th>\n",
              "      <th></th>\n",
              "      <th></th>\n",
              "      <th></th>\n",
              "      <th></th>\n",
              "      <th></th>\n",
              "      <th></th>\n",
              "      <th></th>\n",
              "      <th></th>\n",
              "      <th></th>\n",
              "      <th></th>\n",
              "    </tr>\n",
              "  </thead>\n",
              "  <tbody>\n",
              "    <tr>\n",
              "      <th>1/2/18</th>\n",
              "      <td>4111.3925</td>\n",
              "      <td>1.5</td>\n",
              "      <td>101.47</td>\n",
              "      <td>104.3</td>\n",
              "      <td>105.7</td>\n",
              "      <td>106.80</td>\n",
              "      <td>107.30</td>\n",
              "      <td>104.90</td>\n",
              "      <td>100.30</td>\n",
              "      <td>100.0</td>\n",
              "      <td>...</td>\n",
              "      <td>2789.80</td>\n",
              "      <td>49.29</td>\n",
              "      <td>111.73</td>\n",
              "      <td>247.867</td>\n",
              "      <td>2.58</td>\n",
              "      <td>2843.73</td>\n",
              "      <td>50.24</td>\n",
              "      <td>113.89</td>\n",
              "      <td>33.31</td>\n",
              "      <td>-1.0</td>\n",
              "    </tr>\n",
              "    <tr>\n",
              "      <th>12/29/17</th>\n",
              "      <td>4087.4012</td>\n",
              "      <td>1.5</td>\n",
              "      <td>101.47</td>\n",
              "      <td>104.3</td>\n",
              "      <td>105.7</td>\n",
              "      <td>106.80</td>\n",
              "      <td>107.30</td>\n",
              "      <td>104.90</td>\n",
              "      <td>100.30</td>\n",
              "      <td>100.0</td>\n",
              "      <td>...</td>\n",
              "      <td>2789.80</td>\n",
              "      <td>49.29</td>\n",
              "      <td>111.73</td>\n",
              "      <td>247.867</td>\n",
              "      <td>2.58</td>\n",
              "      <td>2843.73</td>\n",
              "      <td>50.24</td>\n",
              "      <td>113.89</td>\n",
              "      <td>33.31</td>\n",
              "      <td>-1.0</td>\n",
              "    </tr>\n",
              "    <tr>\n",
              "      <th>12/28/17</th>\n",
              "      <td>4030.8549</td>\n",
              "      <td>1.5</td>\n",
              "      <td>102.00</td>\n",
              "      <td>106.3</td>\n",
              "      <td>106.4</td>\n",
              "      <td>120.67</td>\n",
              "      <td>111.53</td>\n",
              "      <td>106.09</td>\n",
              "      <td>100.65</td>\n",
              "      <td>100.6</td>\n",
              "      <td>...</td>\n",
              "      <td>2664.34</td>\n",
              "      <td>48.93</td>\n",
              "      <td>109.88</td>\n",
              "      <td>246.524</td>\n",
              "      <td>2.40</td>\n",
              "      <td>2730.64</td>\n",
              "      <td>50.15</td>\n",
              "      <td>112.61</td>\n",
              "      <td>32.09</td>\n",
              "      <td>-1.0</td>\n",
              "    </tr>\n",
              "    <tr>\n",
              "      <th>12/27/17</th>\n",
              "      <td>4018.8974</td>\n",
              "      <td>1.5</td>\n",
              "      <td>102.00</td>\n",
              "      <td>106.3</td>\n",
              "      <td>106.4</td>\n",
              "      <td>120.67</td>\n",
              "      <td>111.53</td>\n",
              "      <td>106.09</td>\n",
              "      <td>100.65</td>\n",
              "      <td>100.6</td>\n",
              "      <td>...</td>\n",
              "      <td>2664.34</td>\n",
              "      <td>48.93</td>\n",
              "      <td>109.88</td>\n",
              "      <td>246.524</td>\n",
              "      <td>2.40</td>\n",
              "      <td>2730.64</td>\n",
              "      <td>50.15</td>\n",
              "      <td>112.61</td>\n",
              "      <td>32.09</td>\n",
              "      <td>-1.0</td>\n",
              "    </tr>\n",
              "    <tr>\n",
              "      <th>12/26/17</th>\n",
              "      <td>3991.2075</td>\n",
              "      <td>1.5</td>\n",
              "      <td>102.00</td>\n",
              "      <td>106.3</td>\n",
              "      <td>106.4</td>\n",
              "      <td>120.67</td>\n",
              "      <td>111.53</td>\n",
              "      <td>106.09</td>\n",
              "      <td>100.65</td>\n",
              "      <td>100.6</td>\n",
              "      <td>...</td>\n",
              "      <td>2664.34</td>\n",
              "      <td>48.93</td>\n",
              "      <td>109.88</td>\n",
              "      <td>246.524</td>\n",
              "      <td>2.40</td>\n",
              "      <td>2730.64</td>\n",
              "      <td>50.15</td>\n",
              "      <td>112.61</td>\n",
              "      <td>32.09</td>\n",
              "      <td>-1.0</td>\n",
              "    </tr>\n",
              "  </tbody>\n",
              "</table>\n",
              "<p>5 rows × 39 columns</p>\n",
              "</div>"
            ],
            "text/plain": [
              "              close  GDP Growth Rate     CPI  PPI_ppiip  PPI_ppi  PPI_qm  \\\n",
              "date                                                                       \n",
              "1/2/18    4111.3925              1.5  101.47      104.3    105.7  106.80   \n",
              "12/29/17  4087.4012              1.5  101.47      104.3    105.7  106.80   \n",
              "12/28/17  4030.8549              1.5  102.00      106.3    106.4  120.67   \n",
              "12/27/17  4018.8974              1.5  102.00      106.3    106.4  120.67   \n",
              "12/26/17  3991.2075              1.5  102.00      106.3    106.4  120.67   \n",
              "\n",
              "          PPI_rmi  PPI_pi  PPI_cg  PPI_food  \\\n",
              "date                                          \n",
              "1/2/18     107.30  104.90  100.30     100.0   \n",
              "12/29/17   107.30  104.90  100.30     100.0   \n",
              "12/28/17   111.53  106.09  100.65     100.6   \n",
              "12/27/17   111.53  106.09  100.65     100.6   \n",
              "12/26/17   111.53  106.09  100.65     100.6   \n",
              "\n",
              "                         ...                   US_Stock_P  US_Stock_D  \\\n",
              "date                     ...                                            \n",
              "1/2/18                   ...                      2789.80       49.29   \n",
              "12/29/17                 ...                      2789.80       49.29   \n",
              "12/28/17                 ...                      2664.34       48.93   \n",
              "12/27/17                 ...                      2664.34       48.93   \n",
              "12/26/17                 ...                      2664.34       48.93   \n",
              "\n",
              "          US_Stock_E  US_Stock_CPI  US_Stock_Rate GS10  US_Stock_Price  \\\n",
              "date                                                                     \n",
              "1/2/18        111.73       247.867                2.58         2843.73   \n",
              "12/29/17      111.73       247.867                2.58         2843.73   \n",
              "12/28/17      109.88       246.524                2.40         2730.64   \n",
              "12/27/17      109.88       246.524                2.40         2730.64   \n",
              "12/26/17      109.88       246.524                2.40         2730.64   \n",
              "\n",
              "          US_Stock_Dividend  US_Stock_Earnings  US_Stock_CAPE  \\\n",
              "date                                                            \n",
              "1/2/18                50.24             113.89          33.31   \n",
              "12/29/17              50.24             113.89          33.31   \n",
              "12/28/17              50.15             112.61          32.09   \n",
              "12/27/17              50.15             112.61          32.09   \n",
              "12/26/17              50.15             112.61          32.09   \n",
              "\n",
              "          Sentiment - (1 for pos, -1 for neg)  \n",
              "date                                           \n",
              "1/2/18                                   -1.0  \n",
              "12/29/17                                 -1.0  \n",
              "12/28/17                                 -1.0  \n",
              "12/27/17                                 -1.0  \n",
              "12/26/17                                 -1.0  \n",
              "\n",
              "[5 rows x 39 columns]"
            ]
          },
          "metadata": {
            "tags": []
          },
          "execution_count": 179
        }
      ]
    },
    {
      "metadata": {
        "id": "RH0bWJfeqwaJ",
        "colab_type": "code",
        "colab": {}
      },
      "cell_type": "code",
      "source": [
        "df_scaled=df.copy()"
      ],
      "execution_count": 0,
      "outputs": []
    },
    {
      "metadata": {
        "id": "UcKTezfPralI",
        "colab_type": "code",
        "colab": {}
      },
      "cell_type": "code",
      "source": [
        "sc_dict={}"
      ],
      "execution_count": 0,
      "outputs": []
    },
    {
      "metadata": {
        "id": "lkIXvRC1ran1",
        "colab_type": "code",
        "colab": {}
      },
      "cell_type": "code",
      "source": [
        "for colname in df.columns:\n",
        "    sc=MinMaxScaler()\n",
        "    df_scaled[colname]=sc.fit_transform(df[colname].values.reshape(-1,1)).reshape(-1)\n",
        "    sc_dict[colname]=sc   "
      ],
      "execution_count": 0,
      "outputs": []
    },
    {
      "metadata": {
        "id": "HhxAxqJZrsCh",
        "colab_type": "code",
        "colab": {}
      },
      "cell_type": "code",
      "source": [
        "X_train=df_scaled.iloc[0:-122-1]\n",
        "y_train=df_scaled.iloc[1:-122]['close']\n",
        "X_test=df_scaled.iloc[-122-1:-1]\n",
        "y_test=df_scaled.iloc[-122:]['close']"
      ],
      "execution_count": 0,
      "outputs": []
    },
    {
      "metadata": {
        "id": "Rc-NJfh9kUBS",
        "colab_type": "code",
        "outputId": "f0c55f49-56da-45a4-b907-d7ad559a2f96",
        "colab": {
          "base_uri": "https://localhost:8080/",
          "height": 54
        }
      },
      "cell_type": "code",
      "source": [
        "'''\n",
        "parameters_for_testing = {\n",
        "    'colsample_bytree':[0.5,0.8,1],\n",
        "    'gamma':[0,0.03,0.1],\n",
        "    'min_child_weight':[1,5,10],\n",
        "    'learning_rate':[0.1,0.07,0.05],\n",
        "    'max_depth':[1,3,5,10],\n",
        "    'n_estimators':[1000,10000],\n",
        "    'reg_alpha':[1e-5, 1e-2,  0.75],\n",
        "    'reg_lambda':[1e-5, 1e-2, 0.45],\n",
        "    'subsample':[0.6,0.95]  \n",
        "}\n",
        "\n",
        "                    \n",
        "xgb_model = xgboost.XGBRegressor(learning_rate =0.1, n_estimators=1000, max_depth=5,\n",
        "     min_child_weight=1, gamma=0, subsample=0.8, colsample_bytree=0.8, nthread=6, scale_pos_weight=1, seed=27)\n",
        "\n",
        "gsearch1 = GridSearchCV(estimator = xgb_model, param_grid = parameters_for_testing, n_jobs=6,iid=False, verbose=10,scoring='neg_mean_squared_error')\n",
        "gsearch1.fit(X_train,y_train)\n",
        "print (gsearch1.grid_scores_)\n",
        "print('best params')\n",
        "print (gsearch1.best_params_)\n",
        "print('best score')\n",
        "print (gsearch1.best_score_)\n",
        "'''"
      ],
      "execution_count": 0,
      "outputs": [
        {
          "output_type": "execute_result",
          "data": {
            "text/plain": [
              "\"\\nparameters_for_testing = {\\n    'colsample_bytree':[0.5,0.8,1],\\n    'gamma':[0,0.03,0.1],\\n    'min_child_weight':[1,5,10],\\n    'learning_rate':[0.1,0.07,0.05],\\n    'max_depth':[1,3,5,10],\\n    'n_estimators':[1000,10000],\\n    'reg_alpha':[1e-5, 1e-2,  0.75],\\n    'reg_lambda':[1e-5, 1e-2, 0.45],\\n    'subsample':[0.6,0.95]  \\n}\\n\\n                    \\nxgb_model = xgboost.XGBRegressor(learning_rate =0.1, n_estimators=1000, max_depth=5,\\n     min_child_weight=1, gamma=0, subsample=0.8, colsample_bytree=0.8, nthread=6, scale_pos_weight=1, seed=27)\\n\\ngsearch1 = GridSearchCV(estimator = xgb_model, param_grid = parameters_for_testing, n_jobs=6,iid=False, verbose=10,scoring='neg_mean_squared_error')\\ngsearch1.fit(X_train,y_train)\\nprint (gsearch1.grid_scores_)\\nprint('best params')\\nprint (gsearch1.best_params_)\\nprint('best score')\\nprint (gsearch1.best_score_)\\n\""
            ]
          },
          "metadata": {
            "tags": []
          },
          "execution_count": 184
        }
      ]
    },
    {
      "metadata": {
        "id": "7G6aRCOHrsFP",
        "colab_type": "code",
        "outputId": "bfe544a6-9a15-43f9-d664-3632dac8a3e2",
        "colab": {
          "base_uri": "https://localhost:8080/",
          "height": 119
        }
      },
      "cell_type": "code",
      "source": [
        "best_xgb_model = xgboost.XGBRegressor(colsample_bytree=1,\n",
        "                 gamma=0,                 \n",
        "                 learning_rate=0.1,\n",
        "                 max_depth=3,\n",
        "                 min_child_weight=1,\n",
        "                 n_estimators=10000,                                                                    \n",
        "                 reg_alpha=1e-05,\n",
        "                 reg_lambda=0.01,\n",
        "                 subsample=0.95,\n",
        "                 seed=1992)\n",
        "best_xgb_model.fit(X_train,y_train)"
      ],
      "execution_count": 0,
      "outputs": [
        {
          "output_type": "execute_result",
          "data": {
            "text/plain": [
              "XGBRegressor(base_score=0.5, booster='gbtree', colsample_bylevel=1,\n",
              "       colsample_bytree=1, gamma=0, learning_rate=0.1, max_delta_step=0,\n",
              "       max_depth=3, min_child_weight=1, missing=None, n_estimators=10000,\n",
              "       n_jobs=1, nthread=None, objective='reg:linear', random_state=0,\n",
              "       reg_alpha=1e-05, reg_lambda=0.01, scale_pos_weight=1, seed=1992,\n",
              "       silent=True, subsample=0.95)"
            ]
          },
          "metadata": {
            "tags": []
          },
          "execution_count": 185
        }
      ]
    },
    {
      "metadata": {
        "id": "hzxp-Z2MrsH1",
        "colab_type": "code",
        "colab": {}
      },
      "cell_type": "code",
      "source": [
        "y_pred=best_xgb_model.predict(X_test)\n",
        "y_train_pred=best_xgb_model.predict(X_train)"
      ],
      "execution_count": 0,
      "outputs": []
    },
    {
      "metadata": {
        "id": "qpGOwCsOs7D0",
        "colab_type": "code",
        "outputId": "948dde51-d1e4-4dd4-c3cc-a48f5bf676a6",
        "colab": {
          "base_uri": "https://localhost:8080/",
          "height": 226
        }
      },
      "cell_type": "code",
      "source": [
        "fig=plt.figure(figsize=(8,3))\n",
        "\n",
        "\n",
        "plt.subplot(1,2,1)\n",
        "plt.plot(sc_dict['close'].inverse_transform(y_train.values.reshape(-1,1)).reshape(-1),color='red',label='Real')\n",
        "plt.plot(sc_dict['close'].inverse_transform(y_train_pred.reshape(-1,1)).reshape(-1),color='blue',label='Prediction')\n",
        "plt.title('Train')\n",
        "plt.legend()\n",
        "plt.subplot(1,2,2)\n",
        "plt.plot(sc_dict['close'].inverse_transform(y_test.values.reshape(-1,1)).reshape(-1),color='red',label='Real')\n",
        "plt.plot(sc_dict['close'].inverse_transform(y_pred.reshape(-1,1)).reshape(-1),color='blue',label='Prediction')\n",
        "plt.title('Test')\n",
        "plt.legend()\n",
        "\n",
        "plt.show()"
      ],
      "execution_count": 0,
      "outputs": [
        {
          "output_type": "display_data",
          "data": {
            "image/png": "[encoded data removed]",
            "text/plain": [
              "<matplotlib.figure.Figure at 0x7f9c36dce940>"
            ]
          },
          "metadata": {
            "tags": []
          }
        }
      ]
    },
    {
      "metadata": {
        "id": "JmtfuxVCraqh",
        "colab_type": "code",
        "outputId": "cdd1d1b3-9182-4e94-fdd8-1b1f555dbb7c",
        "colab": {
          "base_uri": "https://localhost:8080/",
          "height": 629
        }
      },
      "cell_type": "code",
      "source": [
        "list(OrderedDict(sorted(best_xgb_model.get_booster().get_fscore().items(), key=lambda t: t[1], reverse=True)).items())[1:]"
      ],
      "execution_count": 0,
      "outputs": [
        {
          "output_type": "execute_result",
          "data": {
            "text/plain": [
              "[('SP500_Volume', 2732),\n",
              " ('SP500_Open', 1803),\n",
              " ('SP500_Low', 1052),\n",
              " ('SP500_Close', 975),\n",
              " ('SP500_High', 932),\n",
              " ('CPI', 269),\n",
              " ('PPI_ppiip', 206),\n",
              " ('GDP Growth Rate', 197),\n",
              " ('PPI_clothing', 145),\n",
              " ('PPI_cg', 129),\n",
              " ('MS_m1_yoy', 127),\n",
              " ('PPI_dcg', 114),\n",
              " ('MS_m0_yoy', 110),\n",
              " ('PPI_pi', 96),\n",
              " ('PPI_food', 86),\n",
              " ('MS_rests', 81),\n",
              " ('PPI_roeu', 78),\n",
              " ('PPI_qm', 70),\n",
              " ('US_Stock_Earnings', 68),\n",
              " ('MS_m0', 62),\n",
              " ('US_Stock_E', 62),\n",
              " ('US_Stock_Rate GS10', 56),\n",
              " ('US_Stock_CPI', 55),\n",
              " ('MS_m2', 49),\n",
              " ('Sentiment - (1 for pos, -1 for neg)', 40),\n",
              " ('PPI_rmi', 37),\n",
              " ('MS_m2_yoy', 33),\n",
              " ('US_Stock_P', 28),\n",
              " ('MS_m1', 21),\n",
              " ('US_Stock_Price', 20),\n",
              " ('MS_ftd', 18),\n",
              " ('MS_cd', 17),\n",
              " ('MS_qm', 15),\n",
              " ('PPI_ppi', 14),\n",
              " ('US_Stock_CAPE', 12),\n",
              " ('MS_sd', 9)]"
            ]
          },
          "metadata": {
            "tags": []
          },
          "execution_count": 188
        }
      ]
    },
    {
      "metadata": {
        "id": "Ol1bovLzsov1",
        "colab_type": "code",
        "outputId": "88455906-94a2-4a8c-a5a1-2bc254fa1202",
        "colab": {
          "base_uri": "https://localhost:8080/",
          "height": 34
        }
      },
      "cell_type": "code",
      "source": [
        "np.sqrt(mean_squared_error(sc_dict['close'].inverse_transform(y_test.values.reshape(-1,1)).reshape(-1),sc_dict['close'].inverse_transform(y_pred.reshape(-1,1)).reshape(-1)))"
      ],
      "execution_count": 0,
      "outputs": [
        {
          "output_type": "execute_result",
          "data": {
            "text/plain": [
              "69.3902830781478"
            ]
          },
          "metadata": {
            "tags": []
          },
          "execution_count": 189
        }
      ]
    },
    {
      "metadata": {
        "id": "Qe_rfT6TwThG",
        "colab_type": "code",
        "colab": {}
      },
      "cell_type": "code",
      "source": [
        "Y=df_scaled['close'].values"
      ],
      "execution_count": 0,
      "outputs": []
    },
    {
      "metadata": {
        "id": "NfB_SoJuwfUn",
        "colab_type": "code",
        "colab": {}
      },
      "cell_type": "code",
      "source": [
        "Y_up=[]\n",
        "for i in range(len(Y)-1):\n",
        "  if Y[i+1]>Y[i]:Y_up.append(1)\n",
        "  else:Y_up.append(0)\n",
        "  "
      ],
      "execution_count": 0,
      "outputs": []
    },
    {
      "metadata": {
        "id": "XKRfhCksvFtt",
        "colab_type": "code",
        "colab": {}
      },
      "cell_type": "code",
      "source": [
        "X_train=df_scaled.iloc[0:-121-1]\n",
        "y_up_train=Y_up[0:len(X_train)]\n",
        "X_test=df_scaled.iloc[-122-1:-1]\n",
        "y_up_test=Y_up[len(X_train):]"
      ],
      "execution_count": 0,
      "outputs": []
    },
    {
      "metadata": {
        "id": "4Rhz_AgPxj7C",
        "colab_type": "code",
        "outputId": "31325e1e-0f72-40ce-dc62-9e1731da0eef",
        "colab": {
          "base_uri": "https://localhost:8080/",
          "height": 34
        }
      },
      "cell_type": "code",
      "source": [
        "len(X_train)"
      ],
      "execution_count": 0,
      "outputs": [
        {
          "output_type": "execute_result",
          "data": {
            "text/plain": [
              "1093"
            ]
          },
          "metadata": {
            "tags": []
          },
          "execution_count": 193
        }
      ]
    },
    {
      "metadata": {
        "id": "Pp3tO887xlSq",
        "colab_type": "code",
        "outputId": "60fbb64d-e54c-46a6-de32-ab6cc4212bb8",
        "colab": {
          "base_uri": "https://localhost:8080/",
          "height": 34
        }
      },
      "cell_type": "code",
      "source": [
        "len(y_up_train)"
      ],
      "execution_count": 0,
      "outputs": [
        {
          "output_type": "execute_result",
          "data": {
            "text/plain": [
              "1093"
            ]
          },
          "metadata": {
            "tags": []
          },
          "execution_count": 194
        }
      ]
    },
    {
      "metadata": {
        "id": "O8mPBrPfxnMS",
        "colab_type": "code",
        "outputId": "7e78cbf6-3808-43e5-9462-19921f7b09e9",
        "colab": {
          "base_uri": "https://localhost:8080/",
          "height": 34
        }
      },
      "cell_type": "code",
      "source": [
        "len(X_test)"
      ],
      "execution_count": 0,
      "outputs": [
        {
          "output_type": "execute_result",
          "data": {
            "text/plain": [
              "122"
            ]
          },
          "metadata": {
            "tags": []
          },
          "execution_count": 195
        }
      ]
    },
    {
      "metadata": {
        "id": "4hTpscTZxou4",
        "colab_type": "code",
        "outputId": "107ec74e-4fd1-4f56-d482-e901028a13f8",
        "colab": {
          "base_uri": "https://localhost:8080/",
          "height": 34
        }
      },
      "cell_type": "code",
      "source": [
        "len(y_test)"
      ],
      "execution_count": 0,
      "outputs": [
        {
          "output_type": "execute_result",
          "data": {
            "text/plain": [
              "122"
            ]
          },
          "metadata": {
            "tags": []
          },
          "execution_count": 196
        }
      ]
    },
    {
      "metadata": {
        "id": "XZoGwm0wyGDu",
        "colab_type": "code",
        "colab": {}
      },
      "cell_type": "code",
      "source": [
        ""
      ],
      "execution_count": 0,
      "outputs": []
    },
    {
      "metadata": {
        "id": "KAPxxX5uxqLJ",
        "colab_type": "code",
        "outputId": "827526d2-ef9f-43bb-d2ce-2d0c25e44eda",
        "colab": {
          "base_uri": "https://localhost:8080/",
          "height": 119
        }
      },
      "cell_type": "code",
      "source": [
        "best_xgb_model_updown = xgboost.XGBRegressor(colsample_bytree=1,\n",
        "                 gamma=0,                 \n",
        "                 learning_rate=0.1,\n",
        "                 max_depth=3,\n",
        "                 min_child_weight=1,\n",
        "                 n_estimators=10000,                                                                    \n",
        "                 reg_alpha=1e-05,\n",
        "                 reg_lambda=0.01,\n",
        "                 subsample=0.95,\n",
        "                 seed=3)\n",
        "best_xgb_model_updown.fit(X_train,y_up_train)"
      ],
      "execution_count": 0,
      "outputs": [
        {
          "output_type": "execute_result",
          "data": {
            "text/plain": [
              "XGBRegressor(base_score=0.5, booster='gbtree', colsample_bylevel=1,\n",
              "       colsample_bytree=1, gamma=0, learning_rate=0.1, max_delta_step=0,\n",
              "       max_depth=3, min_child_weight=1, missing=None, n_estimators=10000,\n",
              "       n_jobs=1, nthread=None, objective='reg:linear', random_state=0,\n",
              "       reg_alpha=1e-05, reg_lambda=0.01, scale_pos_weight=1, seed=3,\n",
              "       silent=True, subsample=0.95)"
            ]
          },
          "metadata": {
            "tags": []
          },
          "execution_count": 215
        }
      ]
    },
    {
      "metadata": {
        "id": "pwgLiS09x6H_",
        "colab_type": "code",
        "outputId": "5f1b36ef-30e0-4468-ab19-dde6bd81d72a",
        "colab": {
          "base_uri": "https://localhost:8080/",
          "height": 629
        }
      },
      "cell_type": "code",
      "source": [
        "list(OrderedDict(sorted(best_xgb_model.get_booster().get_fscore().items(), key=lambda t: t[1], reverse=True)).items())[1:]"
      ],
      "execution_count": 0,
      "outputs": [
        {
          "output_type": "execute_result",
          "data": {
            "text/plain": [
              "[('SP500_Volume', 2732),\n",
              " ('SP500_Open', 1803),\n",
              " ('SP500_Low', 1052),\n",
              " ('SP500_Close', 975),\n",
              " ('SP500_High', 932),\n",
              " ('CPI', 269),\n",
              " ('PPI_ppiip', 206),\n",
              " ('GDP Growth Rate', 197),\n",
              " ('PPI_clothing', 145),\n",
              " ('PPI_cg', 129),\n",
              " ('MS_m1_yoy', 127),\n",
              " ('PPI_dcg', 114),\n",
              " ('MS_m0_yoy', 110),\n",
              " ('PPI_pi', 96),\n",
              " ('PPI_food', 86),\n",
              " ('MS_rests', 81),\n",
              " ('PPI_roeu', 78),\n",
              " ('PPI_qm', 70),\n",
              " ('US_Stock_Earnings', 68),\n",
              " ('MS_m0', 62),\n",
              " ('US_Stock_E', 62),\n",
              " ('US_Stock_Rate GS10', 56),\n",
              " ('US_Stock_CPI', 55),\n",
              " ('MS_m2', 49),\n",
              " ('Sentiment - (1 for pos, -1 for neg)', 40),\n",
              " ('PPI_rmi', 37),\n",
              " ('MS_m2_yoy', 33),\n",
              " ('US_Stock_P', 28),\n",
              " ('MS_m1', 21),\n",
              " ('US_Stock_Price', 20),\n",
              " ('MS_ftd', 18),\n",
              " ('MS_cd', 17),\n",
              " ('MS_qm', 15),\n",
              " ('PPI_ppi', 14),\n",
              " ('US_Stock_CAPE', 12),\n",
              " ('MS_sd', 9)]"
            ]
          },
          "metadata": {
            "tags": []
          },
          "execution_count": 216
        }
      ]
    },
    {
      "metadata": {
        "id": "1INZr309yCPd",
        "colab_type": "code",
        "colab": {}
      },
      "cell_type": "code",
      "source": [
        "y_pred_raw=best_xgb_model_updown.predict(X_test)"
      ],
      "execution_count": 0,
      "outputs": []
    },
    {
      "metadata": {
        "id": "YtkBdOzJyRhq",
        "colab_type": "code",
        "colab": {}
      },
      "cell_type": "code",
      "source": [
        "def mapupdown(val):\n",
        "  if val>0.5:return 1\n",
        "  else: return 0"
      ],
      "execution_count": 0,
      "outputs": []
    },
    {
      "metadata": {
        "id": "gSwd0IXOyUTZ",
        "colab_type": "code",
        "colab": {}
      },
      "cell_type": "code",
      "source": [
        "y_up_pred=list(map(mapupdown,y_pred_raw))"
      ],
      "execution_count": 0,
      "outputs": []
    },
    {
      "metadata": {
        "id": "ULOB9zrHymZf",
        "colab_type": "code",
        "outputId": "71dd4e06-7010-4b0f-db34-1a56ec188380",
        "colab": {
          "base_uri": "https://localhost:8080/",
          "height": 34
        }
      },
      "cell_type": "code",
      "source": [
        "correct=0\n",
        "for pred,test in zip(y_up_pred,y_up_test):\n",
        "  if pred==test:correct+=1\n",
        "correct/len(y_pred)"
      ],
      "execution_count": 0,
      "outputs": [
        {
          "output_type": "execute_result",
          "data": {
            "text/plain": [
              "0.4918032786885246"
            ]
          },
          "metadata": {
            "tags": []
          },
          "execution_count": 220
        }
      ]
    },
    {
      "metadata": {
        "id": "vyjZiluBN5ua",
        "colab_type": "code",
        "colab": {}
      },
      "cell_type": "code",
      "source": [
        ""
      ],
      "execution_count": 0,
      "outputs": []
    }
  ]
}